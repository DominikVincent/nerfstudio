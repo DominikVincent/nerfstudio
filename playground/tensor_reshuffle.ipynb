{
 "cells": [
  {
   "cell_type": "code",
   "execution_count": 5,
   "metadata": {},
   "outputs": [
    {
     "name": "stdout",
     "output_type": "stream",
     "text": [
      "torch.Size([1, 1024, 49])\n",
      "torch.Size([1024])\n"
     ]
    }
   ],
   "source": [
    "import torch\n",
    "\n",
    "W = 1024\n",
    "W_PRIME  = 128\n",
    "\n",
    "D = 49\n",
    "\n",
    "\n",
    "original_tensor = torch.randn(1, W, D)\n",
    "# TODO pad oroiignal tensor to be a multiple of W_PRIME\n",
    "padding = W_PRIME - (W % W_PRIME) if W % W_PRIME != 0 else 0\n",
    "padded_original_tensor = torch.nn.functional.pad(original_tensor, (0, 0, 0, padding))\n",
    "masking_top = torch.full((original_tensor.shape[1],), False, dtype=torch.bool)\n",
    "masking_bottom = torch.full((padding,), True, dtype=torch.bool)\n",
    "masking = torch.cat((masking_top, masking_bottom))\n",
    "print(padded_original_tensor.shape)\n",
    "print(masking.shape)"
   ]
  },
  {
   "cell_type": "code",
   "execution_count": 6,
   "metadata": {},
   "outputs": [
    {
     "name": "stdout",
     "output_type": "stream",
     "text": [
      "torch.Size([1024]) tensor([804, 689, 865,  ..., 676,  27, 523])\n",
      "torch.Size([1024]) tensor([952, 797, 318,  ..., 199, 608, 975])\n"
     ]
    }
   ],
   "source": [
    "noise = torch.rand(padded_original_tensor.shape[1])  # noise in [0, 1]\n",
    "\n",
    "# sort noise for each sample\n",
    "ids_shuffle = torch.argsort(noise)\n",
    "ids_shuffle = torch.arange(W)\n",
    "ids_restore = torch.argsort(ids_shuffle)\n",
    "print(ids_shuffle.shape, ids_shuffle)\n",
    "print(ids_restore.shape, ids_restore)"
   ]
  },
  {
   "cell_type": "code",
   "execution_count": 7,
   "metadata": {},
   "outputs": [
    {
     "name": "stdout",
     "output_type": "stream",
     "text": [
      "torch.Size([1, 1024, 49])\n",
      "torch.Size([1024])\n",
      "torch.Size([1024])\n"
     ]
    }
   ],
   "source": [
    "original_tensor_picked = original_tensor[:, ids_shuffle, :]\n",
    "mask_picked = masking[ids_shuffle]\n",
    "print(original_tensor_picked.shape)\n",
    "print(ids_shuffle.shape)\n",
    "print(mask_picked.shape)"
   ]
  },
  {
   "cell_type": "code",
   "execution_count": 8,
   "metadata": {},
   "outputs": [
    {
     "name": "stdout",
     "output_type": "stream",
     "text": [
      "torch.Size([8, 128, 49])\n",
      "torch.Size([8, 128])\n"
     ]
    }
   ],
   "source": [
    "batched_tensor = original_tensor_picked.reshape(-1, W_PRIME, D)\n",
    "batched_masking = mask_picked.reshape(-1, W_PRIME)\n",
    "print(batched_tensor.shape)\n",
    "print(batched_masking.shape)"
   ]
  },
  {
   "cell_type": "code",
   "execution_count": 10,
   "metadata": {},
   "outputs": [
    {
     "name": "stdout",
     "output_type": "stream",
     "text": [
      "torch.Size([1, 1024, 49])\n",
      "tensor(True)\n"
     ]
    }
   ],
   "source": [
    "unbatched_tensor = batched_tensor.reshape(1, -1, batched_tensor.shape[-1])\n",
    "\n",
    "padded_ubatched_tensor = unbatched_tensor[:, ids_restore, :]\n",
    "backtransformed_original_tensor = padded_ubatched_tensor[:, ~masking, :]\n",
    "print(backtransformed_original_tensor.shape)\n",
    "print(torch.all(backtransformed_original_tensor == original_tensor))"
   ]
  },
  {
   "cell_type": "code",
   "execution_count": 49,
   "metadata": {},
   "outputs": [
    {
     "data": {
      "text/plain": [
       "1"
      ]
     },
     "execution_count": 49,
     "metadata": {},
     "output_type": "execute_result"
    }
   ],
   "source": [
    "1025 % W_PRIME"
   ]
  },
  {
   "cell_type": "code",
   "execution_count": null,
   "metadata": {},
   "outputs": [],
   "source": []
  }
 ],
 "metadata": {
  "kernelspec": {
   "display_name": "nerfstudio3",
   "language": "python",
   "name": "python3"
  },
  "language_info": {
   "codemirror_mode": {
    "name": "ipython",
    "version": 3
   },
   "file_extension": ".py",
   "mimetype": "text/x-python",
   "name": "python",
   "nbconvert_exporter": "python",
   "pygments_lexer": "ipython3",
   "version": "3.8.16"
  },
  "orig_nbformat": 4
 },
 "nbformat": 4,
 "nbformat_minor": 2
}
