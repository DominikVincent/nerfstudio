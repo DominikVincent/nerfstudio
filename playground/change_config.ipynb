{
 "cells": [
  {
   "cell_type": "code",
   "execution_count": 3,
   "metadata": {},
   "outputs": [],
   "source": [
    "from pathlib import Path\n",
    "import yaml\n",
    "\n",
    "\n",
    "def read_config(config_path: Path):\n",
    "    # extend path to /config.yml if necessary\n",
    "    if config_path.is_dir():\n",
    "        config_path = config_path / \"config.yml\"\n",
    "    config = yaml.load(config_path.read_text(), Loader=yaml.Loader)\n",
    "    \n",
    "    checkpoint_dir = config.get_checkpoint_dir()\n",
    "    \n",
    "    config.timestamp = \"{timestamp}\"\n",
    "    config.set_timestamp()\n",
    "    \n",
    "    config.load_dir = checkpoint_dir\n",
    "    config.load_pretrained_model = True\n",
    "    \n",
    "    # remove the pretraining from the model config\n",
    "    config.pipeline.model.pretrain = False\n",
    "    config.pipeline.model.mode = \"semantics\"\n",
    "    \n",
    "    config.base_dir = config.get_base_dir()\n",
    "    \n",
    "    out_path = config_path.parent / \"auto_semantic_config.yml\"\n",
    "    out_path.write_text(yaml.dump(config), \"utf8\")\n",
    "    "
   ]
  },
  {
   "cell_type": "code",
   "execution_count": 4,
   "metadata": {},
   "outputs": [
    {
     "ename": "IsADirectoryError",
     "evalue": "[Errno 21] Is a directory: '/data/vision/polina/projects/wmh/dhollidt/documents/nerf/nesf_models/tmp/nesf/2023-03-28_160558'",
     "output_type": "error",
     "traceback": [
      "\u001b[0;31m---------------------------------------------------------------------------\u001b[0m",
      "\u001b[0;31mIsADirectoryError\u001b[0m                         Traceback (most recent call last)",
      "Cell \u001b[0;32mIn[4], line 11\u001b[0m\n\u001b[1;32m      2\u001b[0m paths \u001b[39m=\u001b[39m [\n\u001b[1;32m      3\u001b[0m     Path(\u001b[39m\"\u001b[39m\u001b[39m/data/vision/polina/projects/wmh/dhollidt/documents/nerf/nesf_models/tmp/nesf/2023-03-28_160558\u001b[39m\u001b[39m\"\u001b[39m),\n\u001b[1;32m      4\u001b[0m     Path(\u001b[39m\"\u001b[39m\u001b[39m/data/vision/polina/projects/wmh/dhollidt/documents/nerf/nesf_models/tmp/nesf/2023-03-28_164449\u001b[39m\u001b[39m\"\u001b[39m),\n\u001b[0;32m   (...)\u001b[0m\n\u001b[1;32m      7\u001b[0m     \n\u001b[1;32m      8\u001b[0m ]\n\u001b[1;32m     10\u001b[0m \u001b[39mfor\u001b[39;00m path \u001b[39min\u001b[39;00m paths:\n\u001b[0;32m---> 11\u001b[0m     read_config(path)\n\u001b[1;32m     12\u001b[0m     time\u001b[39m.\u001b[39msleep(\u001b[39m2\u001b[39m)\n",
      "Cell \u001b[0;32mIn[3], line 6\u001b[0m, in \u001b[0;36mread_config\u001b[0;34m(config_path)\u001b[0m\n\u001b[1;32m      5\u001b[0m \u001b[39mdef\u001b[39;00m \u001b[39mread_config\u001b[39m(config_path: Path):\n\u001b[0;32m----> 6\u001b[0m     config \u001b[39m=\u001b[39m yaml\u001b[39m.\u001b[39mload(config_path\u001b[39m.\u001b[39;49mread_text(), Loader\u001b[39m=\u001b[39myaml\u001b[39m.\u001b[39mLoader)\n\u001b[1;32m      8\u001b[0m     checkpoint_dir \u001b[39m=\u001b[39m config\u001b[39m.\u001b[39mget_checkpoint_dir()\n\u001b[1;32m     10\u001b[0m     config\u001b[39m.\u001b[39mtimestamp \u001b[39m=\u001b[39m \u001b[39m\"\u001b[39m\u001b[39m{timestamp}\u001b[39;00m\u001b[39m\"\u001b[39m\n",
      "File \u001b[0;32m/data/vision/polina/projects/wmh/dhollidt/conda/envs/nerfstudio3/lib/python3.8/pathlib.py:1236\u001b[0m, in \u001b[0;36mPath.read_text\u001b[0;34m(self, encoding, errors)\u001b[0m\n\u001b[1;32m   1232\u001b[0m \u001b[39mdef\u001b[39;00m \u001b[39mread_text\u001b[39m(\u001b[39mself\u001b[39m, encoding\u001b[39m=\u001b[39m\u001b[39mNone\u001b[39;00m, errors\u001b[39m=\u001b[39m\u001b[39mNone\u001b[39;00m):\n\u001b[1;32m   1233\u001b[0m \u001b[39m    \u001b[39m\u001b[39m\"\"\"\u001b[39;00m\n\u001b[1;32m   1234\u001b[0m \u001b[39m    Open the file in text mode, read it, and close the file.\u001b[39;00m\n\u001b[1;32m   1235\u001b[0m \u001b[39m    \"\"\"\u001b[39;00m\n\u001b[0;32m-> 1236\u001b[0m     \u001b[39mwith\u001b[39;00m \u001b[39mself\u001b[39;49m\u001b[39m.\u001b[39;49mopen(mode\u001b[39m=\u001b[39;49m\u001b[39m'\u001b[39;49m\u001b[39mr\u001b[39;49m\u001b[39m'\u001b[39;49m, encoding\u001b[39m=\u001b[39;49mencoding, errors\u001b[39m=\u001b[39;49merrors) \u001b[39mas\u001b[39;00m f:\n\u001b[1;32m   1237\u001b[0m         \u001b[39mreturn\u001b[39;00m f\u001b[39m.\u001b[39mread()\n",
      "File \u001b[0;32m/data/vision/polina/projects/wmh/dhollidt/conda/envs/nerfstudio3/lib/python3.8/pathlib.py:1222\u001b[0m, in \u001b[0;36mPath.open\u001b[0;34m(self, mode, buffering, encoding, errors, newline)\u001b[0m\n\u001b[1;32m   1220\u001b[0m \u001b[39mif\u001b[39;00m \u001b[39mself\u001b[39m\u001b[39m.\u001b[39m_closed:\n\u001b[1;32m   1221\u001b[0m     \u001b[39mself\u001b[39m\u001b[39m.\u001b[39m_raise_closed()\n\u001b[0;32m-> 1222\u001b[0m \u001b[39mreturn\u001b[39;00m io\u001b[39m.\u001b[39;49mopen(\u001b[39mself\u001b[39;49m, mode, buffering, encoding, errors, newline,\n\u001b[1;32m   1223\u001b[0m                opener\u001b[39m=\u001b[39;49m\u001b[39mself\u001b[39;49m\u001b[39m.\u001b[39;49m_opener)\n",
      "\u001b[0;31mIsADirectoryError\u001b[0m: [Errno 21] Is a directory: '/data/vision/polina/projects/wmh/dhollidt/documents/nerf/nesf_models/tmp/nesf/2023-03-28_160558'"
     ]
    }
   ],
   "source": [
    "import time\n",
    "paths = [\n",
    "    Path(\"/data/vision/polina/projects/wmh/dhollidt/documents/nerf/nesf_models/tmp/nesf/2023-03-28_165201/config.yml\"),\n",
    "    Path(\"/data/vision/polina/projects/wmh/dhollidt/documents/nerf/nesf_models/tmp/nesf/2023-03-28_160558\"),\n",
    "    Path(\"/data/vision/polina/projects/wmh/dhollidt/documents/nerf/nesf_models/tmp/nesf/2023-03-28_164449\"),\n",
    "    Path(\"/data/vision/polina/projects/wmh/dhollidt/documents/nerf/nesf_models/tmp/nesf/2023-03-28_161514\"),\n",
    "    Path(\"/data/vision/polina/projects/wmh/dhollidt/documents/nerf/nesf_models/tmp/nesf/2023-03-28_161854\"),\n",
    "    \n",
    "]\n",
    "\n",
    "for path in paths:\n",
    "    read_config(path)\n",
    "    time.sleep(2)"
   ]
  },
  {
   "cell_type": "code",
   "execution_count": null,
   "metadata": {},
   "outputs": [],
   "source": []
  }
 ],
 "metadata": {
  "kernelspec": {
   "display_name": "nerfstudio3",
   "language": "python",
   "name": "python3"
  },
  "language_info": {
   "codemirror_mode": {
    "name": "ipython",
    "version": 3
   },
   "file_extension": ".py",
   "mimetype": "text/x-python",
   "name": "python",
   "nbconvert_exporter": "python",
   "pygments_lexer": "ipython3",
   "version": "3.8.16"
  },
  "orig_nbformat": 4
 },
 "nbformat": 4,
 "nbformat_minor": 2
}
