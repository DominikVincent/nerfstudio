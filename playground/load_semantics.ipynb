{
 "cells": [
  {
   "cell_type": "code",
   "execution_count": 1,
   "metadata": {},
   "outputs": [
    {
     "name": "stderr",
     "output_type": "stream",
     "text": [
      "UsageError: Line magic function `%autoreload` not found.\n"
     ]
    }
   ],
   "source": [
    "%autoreload 2\n",
    "\n",
    "from pathlib import Path\n",
    "import numpy as np\n",
    "import matplotlib.pyplot as plt\n",
    "\n",
    "\n",
    "semantic_path = Path(\"/data/vision/polina/scratch/clintonw/datasets/kubric/klevr/0/segmentation_0000.png\")"
   ]
  },
  {
   "cell_type": "code",
   "execution_count": 23,
   "metadata": {},
   "outputs": [],
   "source": [
    "# a dict of integer to color\n",
    "class_to_color = {\n",
    "    0: (0, 0, 0),\n",
    "    1: (255, 0, 0),\n",
    "    2: (0, 255, 0),\n",
    "    3: (0, 0, 255),\n",
    "    4: (255, 255, 0),\n",
    "    5: (255, 0, 255),\n",
    "    6: (0, 255, 255),\n",
    "    7: (255, 255, 255),\n",
    "    8: (128, 0, 0),\n",
    "    9: (0, 128, 0),\n",
    "    10: (0, 0, 128),\n",
    "}\n",
    "# map as array\n",
    "int_to_color = np.array([class_to_color[i] for i in range(len(class_to_color))])\n",
    "\n",
    "# inverse mapping\n",
    "color_to_class = {v: k for k, v in class_to_color.items()}\n",
    "\n",
    "def show_semantic_map(semantic_map):\n",
    "    if len(semantic_map.shape) == 3:\n",
    "        semantic_map = semantic_map.squeeze(-1)\n",
    "    rgb_array = int_to_color[semantic_map]\n",
    "    \n",
    "    plt.imshow(rgb_array)\n",
    "    plt.show()"
   ]
  },
  {
   "cell_type": "code",
   "execution_count": 21,
   "metadata": {},
   "outputs": [
    {
     "name": "stderr",
     "output_type": "stream",
     "text": [
      "xv: Can't open display\n"
     ]
    }
   ],
   "source": [
    "from PIL import Image\n",
    "image = Image.open(semantic_path)\n",
    "image.show()\n",
    "semantic_map = np.array(image)"
   ]
  },
  {
   "cell_type": "code",
   "execution_count": 7,
   "metadata": {},
   "outputs": [
    {
     "data": {
      "text/plain": [
       "array([[0, 0, 0, ..., 0, 0, 0],\n",
       "       [0, 0, 0, ..., 0, 0, 0],\n",
       "       [0, 0, 0, ..., 0, 0, 0],\n",
       "       ...,\n",
       "       [0, 0, 0, ..., 0, 0, 0],\n",
       "       [0, 0, 0, ..., 0, 0, 0],\n",
       "       [0, 0, 0, ..., 0, 0, 0]], dtype=uint8)"
      ]
     },
     "execution_count": 7,
     "metadata": {},
     "output_type": "execute_result"
    }
   ],
   "source": [
    "semantic_map"
   ]
  },
  {
   "cell_type": "code",
   "execution_count": 10,
   "metadata": {},
   "outputs": [
    {
     "name": "stdout",
     "output_type": "stream",
     "text": [
      "[0 1 2 3 4 5]\n"
     ]
    },
    {
     "data": {
      "image/png": "[encoded data removed]",
      "text/plain": [
       "<Figure size 640x480 with 1 Axes>"
      ]
     },
     "metadata": {},
     "output_type": "display_data"
    }
   ],
   "source": [
    "plt.imshow(semantic_map)\n",
    "print(np.unique(semantic_map))"
   ]
  },
  {
   "cell_type": "code",
   "execution_count": 28,
   "metadata": {},
   "outputs": [
    {
     "ename": "TypeError",
     "evalue": "tensor(): argument 'dtype' must be torch.dtype, not str",
     "output_type": "error",
     "traceback": [
      "\u001b[0;31m---------------------------------------------------------------------------\u001b[0m",
      "\u001b[0;31mTypeError\u001b[0m                                 Traceback (most recent call last)",
      "Cell \u001b[0;32mIn[28], line 5\u001b[0m\n\u001b[1;32m      2\u001b[0m \u001b[39mimport\u001b[39;00m \u001b[39mtorch\u001b[39;00m\n\u001b[1;32m      4\u001b[0m input_mask \u001b[39m=\u001b[39m torch\u001b[39m.\u001b[39mzeros(\u001b[39m256\u001b[39m,\u001b[39m256\u001b[39m) \u001b[39m+\u001b[39m \u001b[39m3\u001b[39m\n\u001b[0;32m----> 5\u001b[0m sem, mask \u001b[39m=\u001b[39m get_semantics_and_mask_tensors_from_path(semantic_path, mask_indices\u001b[39m=\u001b[39;49m[])\n\u001b[1;32m      7\u001b[0m show_semantic_map(sem)\n",
      "File \u001b[0;32m/data/vision/polina/projects/wmh/dhollidt/documents/nerf/nerfstudio_fork/nerfstudio/data/utils/data_utils.py:48\u001b[0m, in \u001b[0;36mget_semantics_and_mask_tensors_from_path\u001b[0;34m(filepath, mask_indices, scale_factor)\u001b[0m\n\u001b[1;32m     43\u001b[0m \u001b[39m\u001b[39m\u001b[39m\"\"\"\u001b[39;00m\n\u001b[1;32m     44\u001b[0m \u001b[39mUtility function to read segmentation from the given filepath\u001b[39;00m\n\u001b[1;32m     45\u001b[0m \u001b[39mIf no mask is required - use mask_indices = []\u001b[39;00m\n\u001b[1;32m     46\u001b[0m \u001b[39m\"\"\"\u001b[39;00m\n\u001b[1;32m     47\u001b[0m \u001b[39mif\u001b[39;00m \u001b[39misinstance\u001b[39m(mask_indices, List):\n\u001b[0;32m---> 48\u001b[0m     mask_indices \u001b[39m=\u001b[39m torch\u001b[39m.\u001b[39;49mtensor(mask_indices, dtype\u001b[39m=\u001b[39;49m\u001b[39m\"\u001b[39;49m\u001b[39mint64\u001b[39;49m\u001b[39m\"\u001b[39;49m)\u001b[39m.\u001b[39mview(\u001b[39m1\u001b[39m, \u001b[39m1\u001b[39m, \u001b[39m-\u001b[39m\u001b[39m1\u001b[39m)\n\u001b[1;32m     49\u001b[0m pil_image \u001b[39m=\u001b[39m Image\u001b[39m.\u001b[39mopen(filepath)\n\u001b[1;32m     50\u001b[0m \u001b[39mif\u001b[39;00m scale_factor \u001b[39m!=\u001b[39m \u001b[39m1.0\u001b[39m:\n",
      "\u001b[0;31mTypeError\u001b[0m: tensor(): argument 'dtype' must be torch.dtype, not str"
     ]
    }
   ],
   "source": [
    "from nerfstudio.data.utils.data_utils import get_semantics_and_mask_tensors_from_path\n",
    "import torch\n",
    "\n",
    "input_mask = torch.zeros(256,256) + 3\n",
    "sem, mask = get_semantics_and_mask_tensors_from_path(semantic_path, mask_indices=[])\n",
    "\n",
    "show_semantic_map(sem)\n"
   ]
  },
  {
   "cell_type": "code",
   "execution_count": 17,
   "metadata": {},
   "outputs": [
    {
     "data": {
      "text/plain": [
       "<matplotlib.image.AxesImage at 0x7f3602c7e250>"
      ]
     },
     "execution_count": 17,
     "metadata": {},
     "output_type": "execute_result"
    },
    {
     "data": {
      "image/png": "[encoded data removed]",
      "text/plain": [
       "<Figure size 640x480 with 1 Axes>"
      ]
     },
     "metadata": {},
     "output_type": "display_data"
    }
   ],
   "source": [
    "plt.imshow(sem)"
   ]
  },
  {
   "cell_type": "code",
   "execution_count": null,
   "metadata": {},
   "outputs": [],
   "source": []
  }
 ],
 "metadata": {
  "kernelspec": {
   "display_name": "nerfstudio3",
   "language": "python",
   "name": "python3"
  },
  "language_info": {
   "codemirror_mode": {
    "name": "ipython",
    "version": 3
   },
   "file_extension": ".py",
   "mimetype": "text/x-python",
   "name": "python",
   "nbconvert_exporter": "python",
   "pygments_lexer": "ipython3",
   "version": "3.8.16 (default, Jan 17 2023, 23:13:24) \n[GCC 11.2.0]"
  },
  "orig_nbformat": 4,
  "vscode": {
   "interpreter": {
    "hash": "d982505c67f6491cc57124614a47f97cb6b2fba9cbe418d2edc6b5ed45f83d2f"
   }
  }
 },
 "nbformat": 4,
 "nbformat_minor": 2
}
