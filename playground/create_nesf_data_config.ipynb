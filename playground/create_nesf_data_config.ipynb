{
 "cells": [
  {
   "cell_type": "code",
   "execution_count": 1,
   "metadata": {},
   "outputs": [],
   "source": [
    "from pathlib import Path\n",
    "import os\n",
    "import json\n",
    "\n",
    "DATA_BASE_DIR = Path(\"/data/vision/polina/projects/wmh/dhollidt/datasets/klevr_nesf\")\n",
    "MODEL_BASE_DIR = Path(\"/data/vision/polina/projects/wmh/dhollidt/documents/nerf/klever_depth_models_nesf\")\n",
    "\n",
    "TRAIN_START = 0\n",
    "TEST_START = 150\n",
    "\n",
    "MODEL_NAME=\"depth-nerfacto\"\n",
    "TIMESTAMP = \"07_04_23\"\n",
    "\n",
    "def get_highest_load_step(load_dir: Path):\n",
    "    load_step = sorted(int(x[x.find(\"-\") + 1 : x.find(\".\")]) for x in os.listdir(load_dir))[-1]\n",
    "    return load_step\n",
    "    \n",
    "\n",
    "def create_nesf_data_config(num_scenes: int, split: str, out_path: Path):\n",
    "    start = TRAIN_START if split == \"train\" else TEST_START\n",
    "    \n",
    "    \n",
    "    config = []\n",
    "    for scene_idx in range(start, start+num_scenes):\n",
    "        load_dir = MODEL_BASE_DIR / str(scene_idx) / MODEL_NAME / TIMESTAMP / \"nerfstudio_models\"\n",
    "        scene_config = {\n",
    "            \"model_config\": {},\n",
    "            \"data_parser_config\": {\n",
    "                \"data\": str(DATA_BASE_DIR / str(scene_idx)),\n",
    "            },\n",
    "            \"load_step\": get_highest_load_step(load_dir),\n",
    "            \"load_dir\": str(load_dir),\n",
    "            }\n",
    "        \n",
    "        if split == \"test\":\n",
    "            scene_config[\"data_parser_config\"][\"train_split_percentage\"] = 0.0\n",
    "            scene_config[\"set_type\"] = \"test\"\n",
    "        \n",
    "        config.append(scene_config)\n",
    "        \n",
    "    data_config = {\"config\": config}\n",
    "    \n",
    "    # write to file\n",
    "    with open(out_path, 'w') as f:\n",
    "        json.dump(data_config, f, indent=4)\n",
    "    \n",
    "    "
   ]
  },
  {
   "cell_type": "code",
   "execution_count": 5,
   "metadata": {},
   "outputs": [],
   "source": [
    "create_nesf_data_config(1, \"train\", Path(\"/data/vision/polina/projects/wmh/dhollidt/documents/nerf/data/klever_depth_nesf_train_1.json\"))\n",
    "create_nesf_data_config(50, \"test\", Path(\"/data/vision/polina/projects/wmh/dhollidt/documents/nerf/data/klever_depth_nesf_test_50.json\"))"
   ]
  },
  {
   "cell_type": "code",
   "execution_count": null,
   "metadata": {},
   "outputs": [],
   "source": []
  }
 ],
 "metadata": {
  "kernelspec": {
   "display_name": "nerfstudio3",
   "language": "python",
   "name": "python3"
  },
  "language_info": {
   "codemirror_mode": {
    "name": "ipython",
    "version": 3
   },
   "file_extension": ".py",
   "mimetype": "text/x-python",
   "name": "python",
   "nbconvert_exporter": "python",
   "pygments_lexer": "ipython3",
   "version": "3.8.16"
  },
  "orig_nbformat": 4
 },
 "nbformat": 4,
 "nbformat_minor": 2
}
